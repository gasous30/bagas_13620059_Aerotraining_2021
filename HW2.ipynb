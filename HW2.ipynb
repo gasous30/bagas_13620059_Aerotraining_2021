{
 "cells": [
  {
   "cell_type": "code",
   "execution_count": 1,
   "id": "ea2f7d1f",
   "metadata": {},
   "outputs": [],
   "source": [
    "class RacingPlane():\n",
    "    def __init__ (self, mass, maxcl3cd2, liftatmaxcl3cd2, powereqatmaxcl3cd2):\n",
    "        #mass = mass of the UAV\n",
    "        #maxcl3cd2 = maximum value of CL^(3/2)/CD of the UAV\n",
    "        #liftatmaxcl3cd2 = Lift value at maximum CL^(3/2)/CD of the UAV\n",
    "        self.weight = mass * 9.8\n",
    "        self.maxcl3cd2 = maxcl3cd2\n",
    "        self.liftatmaxcl3cd2 = liftatmaxcl3cd2\n",
    "        self.powereqatmaxcl3cd2 = powereqatmaxcl3cd2\n",
    "    \n",
    "    def load_factor (self): #calculate load factor of UAV\n",
    "        return self.liftatmaxcl3cd2/self.weight\n",
    "    \n",
    "    def turn_time (self, speed): #calculate turning time for UAV\n",
    "        #speed = speed of the UAV when turning\n",
    "        return 3.14/(9.8/speed*(((self.liftatmaxcl3cd2/self.weight)**2 - 1))**0.5)\n",
    "    \n",
    "    def power_required (self,dragcoef,safetyfactor): #calculate\n",
    "        #dragcoef = drag coefficient of the UAV\n",
    "        return self.powereqatmaxcl3cd2/dragcoef/safetyfactor"
   ]
  }
 ],
 "metadata": {
  "kernelspec": {
   "display_name": "Python 3",
   "language": "python",
   "name": "python3"
  },
  "language_info": {
   "codemirror_mode": {
    "name": "ipython",
    "version": 3
   },
   "file_extension": ".py",
   "mimetype": "text/x-python",
   "name": "python",
   "nbconvert_exporter": "python",
   "pygments_lexer": "ipython3",
   "version": "3.8.8"
  }
 },
 "nbformat": 4,
 "nbformat_minor": 5
}
